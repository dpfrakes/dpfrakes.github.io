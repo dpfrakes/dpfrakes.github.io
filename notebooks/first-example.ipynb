{
 "cells": [
  {
   "cell_type": "markdown",
   "id": "060e53b3",
   "metadata": {},
   "source": [
    "# First Example\n",
    "\n",
    "First example of a jupyter notebook that we want to convert to HTML, extract the content, and inject it into a blog post template to be styled and published as a blog post."
   ]
  },
  {
   "cell_type": "code",
   "execution_count": 1,
   "id": "d8e74725",
   "metadata": {},
   "outputs": [],
   "source": [
    "import os"
   ]
  },
  {
   "cell_type": "code",
   "execution_count": 3,
   "id": "a83f0f11",
   "metadata": {},
   "outputs": [
    {
     "name": "stdout",
     "output_type": "stream",
     "text": [
      "archetypes\n",
      "assets\n",
      "basic.html\n",
      "config.yml\n",
      "content\n",
      "data\n",
      "deploy.py\n",
      "dusk.html\n",
      "layouts\n",
      "notebooks\n",
      "public\n",
      "README.md\n",
      "resources\n",
      "static\n",
      "themes\n",
      "vaers-analysis.html\n",
      "vaers-analysis.ipynb\n"
     ]
    },
    {
     "data": {
      "text/plain": [
       "0"
      ]
     },
     "execution_count": 3,
     "metadata": {},
     "output_type": "execute_result"
    }
   ],
   "source": [
    "os.system(\"ls ..\")"
   ]
  },
  {
   "cell_type": "code",
   "execution_count": null,
   "id": "25063d88",
   "metadata": {},
   "outputs": [],
   "source": []
  }
 ],
 "metadata": {
  "kernelspec": {
   "display_name": "Python 3 (ipykernel)",
   "language": "python",
   "name": "python3"
  },
  "language_info": {
   "codemirror_mode": {
    "name": "ipython",
    "version": 3
   },
   "file_extension": ".py",
   "mimetype": "text/x-python",
   "name": "python",
   "nbconvert_exporter": "python",
   "pygments_lexer": "ipython3",
   "version": "3.8.10"
  }
 },
 "nbformat": 4,
 "nbformat_minor": 5
}
